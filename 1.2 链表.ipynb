{
 "cells": [
  {
   "cell_type": "markdown",
   "metadata": {},
   "source": [
    "# 链表题目"
   ]
  },
  {
   "cell_type": "markdown",
   "metadata": {},
   "source": [
    "涉及题目：\n",
    "\n",
    "LeetCode 206 题，难度 \n",
    "\n",
    "LeetCode 105 题，难度 Medium\n"
   ]
  },
  {
   "cell_type": "markdown",
   "metadata": {},
   "source": [
    "BFS"
   ]
  },
  {
   "cell_type": "markdown",
   "metadata": {},
   "source": [
    "给你一个二叉树，请你返回其按 层序遍历 得到的节点值。 （即逐层地，从左到右访问所有节点）。\n",
    "\n",
    " \n",
    "\n",
    "示例：\n",
    "二叉树：[3,9,20,null,null,15,7],\n",
    "\n",
    "    3\n",
    "   / \\\n",
    "  9  20\n",
    "    /  \\\n",
    "   15   7\n",
    "返回其层次遍历结果：\n",
    "\n",
    "[\n",
    "  [3],\n",
    "  [9,20],\n",
    "  [15,7]\n",
    "]\n"
   ]
  },
  {
   "cell_type": "code",
   "execution_count": 1,
   "metadata": {},
   "outputs": [],
   "source": [
    "class ListNode:\n",
    "    def __init__(self, val=0, next=None):\n",
    "        self.val = val\n",
    "        self.next = next"
   ]
  },
  {
   "cell_type": "code",
   "execution_count": 9,
   "metadata": {},
   "outputs": [
    {
     "name": "stdout",
     "output_type": "stream",
     "text": [
      "[[3], [9, 20], [15, 7]]\n"
     ]
    }
   ],
   "source": [
    "# Python：\n",
    "# Definition for a binary tree node.\n",
    "class TreeNode(object):\n",
    "    def __init__(self, x):\n",
    "        self.val = x\n",
    "        self.left = None\n",
    "        self.right = None\n",
    "\n",
    "class Solution(object):\n",
    "    def levelOrder(self, root):\n",
    "        \"\"\"\n",
    "        :type root: TreeNode\n",
    "        :rtype: List[List[int]]\n",
    "        \"\"\"\n",
    "        queue = [root]\n",
    "        res = []\n",
    "        while queue:\n",
    "            cnt = len(queue)\n",
    "            li = []\n",
    "            while cnt:\n",
    "                tmp = queue.pop(0)\n",
    "                li.append(tmp.val)\n",
    "                if tmp.left:\n",
    "                    queue.append(tmp.left)\n",
    "                if tmp.right:\n",
    "                    queue.append(tmp.right)\n",
    "                cnt-=1\n",
    "            res.append(li)\n",
    "        print(res)\n",
    "        \n",
    "        \n",
    "    \n",
    "head = TreeNode(3)\n",
    "head.left = TreeNode(9)\n",
    "head.right = TreeNode(20)\n",
    "head.right.left = TreeNode(15)\n",
    "head.right.right = TreeNode(7)\n",
    "Solution().levelOrder(head)"
   ]
  },
  {
   "cell_type": "markdown",
   "metadata": {},
   "source": [
    "## 反转链表\n",
    "206.反转链表"
   ]
  },
  {
   "cell_type": "markdown",
   "metadata": {},
   "source": [
    "## 循环解法"
   ]
  },
  {
   "cell_type": "code",
   "execution_count": null,
   "metadata": {},
   "outputs": [],
   "source": [
    "class Solution:\n",
    "    def reverseList(self, head):\n",
    "        if not head or not head.next:\n",
    "            return head\n",
    "        cur = head\n",
    "        prv = None\n",
    "        while cur:\n",
    "            nxt = cur.next\n",
    "            cur.next = prv\n",
    "            prv = cur\n",
    "            cur = nxt\n",
    "        return prv"
   ]
  },
  {
   "cell_type": "markdown",
   "metadata": {},
   "source": [
    "## 递归解法"
   ]
  },
  {
   "cell_type": "code",
   "execution_count": null,
   "metadata": {},
   "outputs": [],
   "source": [
    "class Solution:\n",
    "    def reverseList(self, head):\n",
    "        if not head or not head.next:\n",
    "            return head\n",
    "        last = self.reverseList(head.next)\n",
    "        head.next.next = head\n",
    "        head.next = None\n",
    "        return last"
   ]
  },
  {
   "cell_type": "markdown",
   "metadata": {},
   "source": [
    "92.反转链表的一部分"
   ]
  },
  {
   "cell_type": "markdown",
   "metadata": {},
   "source": [
    "循环解法"
   ]
  },
  {
   "cell_type": "code",
   "execution_count": null,
   "metadata": {},
   "outputs": [],
   "source": [
    "# Definition for singly-linked list.\n",
    "# class ListNode:\n",
    "#     def __init__(self, val=0, next=None):\n",
    "#         self.val = val\n",
    "#         self.next = next\n",
    "class Solution:\n",
    "    def reverseBetween(self, head: ListNode, left: int, right: int) -> ListNode:\n",
    "        \n",
    "        k = right-left+1\n",
    "        if k<2:\n",
    "            return head\n",
    "        \n",
    "        ptr = head\n",
    "        i = 1\n",
    "        left_node = None\n",
    "        \n",
    "        while i<left:\n",
    "            if i == left-1:\n",
    "                left_node = ptr \n",
    "            ptr = ptr.next\n",
    "            i+=1\n",
    "            \n",
    "        # not ptr on the node we need to reverse\n",
    "        left_start = ptr\n",
    "        prv = None\n",
    "        while k:\n",
    "            nxt = ptr.next\n",
    "            ptr.next = prv\n",
    "            prv = ptr\n",
    "            ptr = nxt\n",
    "            k-=1\n",
    "        if left_node:\n",
    "            left_node.next = prv\n",
    "        else:\n",
    "            head=prv\n",
    "        if ptr:\n",
    "            left_start.next = ptr\n",
    "        return head\n",
    "        \n",
    "        "
   ]
  },
  {
   "cell_type": "markdown",
   "metadata": {},
   "source": [
    "## K个一组反转\n",
    "25.K个一组反转"
   ]
  },
  {
   "cell_type": "markdown",
   "metadata": {},
   "source": [
    "### [a,b)反转法"
   ]
  },
  {
   "cell_type": "code",
   "execution_count": 2,
   "metadata": {},
   "outputs": [],
   "source": [
    "class Solution:\n",
    "    def reverseKGroup(self, head: ListNode, k: int) -> ListNode:\n",
    "        def reverse(a,b):\n",
    "            prv = None\n",
    "            cur = a\n",
    "            while cur!=b:\n",
    "                nxt = cur.next\n",
    "                cur.next = prv\n",
    "                prv = cur\n",
    "                cur = nxt\n",
    "            return prv\n",
    "        \n",
    "        def k_reverse(root,k):\n",
    "            if not root:\n",
    "                return root\n",
    "            a = b = root\n",
    "            for _ in range(k):\n",
    "                if not b:\n",
    "                    return a\n",
    "                else:\n",
    "                    b = b.next\n",
    "            rev = reverse(a,b)\n",
    "            a.next = k_reverse(b,k)\n",
    "            return rev\n",
    "        \n",
    "        return k_reverse(head,k)"
   ]
  },
  {
   "cell_type": "markdown",
   "metadata": {},
   "source": [
    "### 尝试法，不足k就回溯"
   ]
  },
  {
   "cell_type": "code",
   "execution_count": null,
   "metadata": {},
   "outputs": [],
   "source": [
    "class Solution:\n",
    "    def reverseKGroup(self, head: ListNode, k: int) -> ListNode:\n",
    "        def try_reverse(root,k):\n",
    "            # we try to reverse k place from root\n",
    "            count = k\n",
    "            cur = root\n",
    "            prv = None\n",
    "            while count:\n",
    "                # if the place is not enough\n",
    "                # we reverse back what we have done\n",
    "                # for example:\n",
    "                # We have input 1 -> 2 -> Null, k=3\n",
    "                \n",
    "                # Here Null <- 1 <- 2  Null\n",
    "                #                   |    |\n",
    "                #                  prv  cur      k=1\n",
    "                \n",
    "                # we return the result of parameter\n",
    "                # 2 -> 1 -> Null, k=2\n",
    "                # its result is (1 -> 2 -> Null, Null)\n",
    "                # reverse back and we can use the second return value\n",
    "                # to determine whether we reach the bottom in recursive\n",
    "                # function k_reverse.\n",
    "                if not cur:\n",
    "                    return try_reverse(prv, k-count)\n",
    "                nxt = cur.next\n",
    "                cur.next = prv\n",
    "                prv = cur\n",
    "                cur = nxt\n",
    "                count-=1\n",
    "            \n",
    "            # prv is reversed sub_link\n",
    "            # cur is the next place of prv\n",
    "            # for example, \n",
    "            # we take input 1 -> 2 -> 3 -> 4 -> Null, k=2\n",
    "            # prv is 2 -> 1 -> Null,\n",
    "            # cur is 3 -> 4 -> Null\n",
    "            return prv,cur\n",
    "        \n",
    "        \n",
    "        def k_reverse(root,k):\n",
    "            # recursive k_reverse\n",
    "            new_head, new_next = try_reverse(root,k)\n",
    "            if new_next:\n",
    "                root.next = k_reverse(new_next, k)\n",
    "            return new_head\n",
    "        \n",
    "        return k_reverse(head,k)"
   ]
  },
  {
   "cell_type": "markdown",
   "metadata": {},
   "source": [
    "### 反转链表改造法"
   ]
  },
  {
   "cell_type": "code",
   "execution_count": null,
   "metadata": {},
   "outputs": [],
   "source": [
    "class Solution:\n",
    "    def reverseKGroup(self, head: ListNode, k: int) -> ListNode:\n",
    "                \n",
    "        def kReverse(head,k):\n",
    "            cur = head\n",
    "            prv = None\n",
    "            cnt = k\n",
    "            while cur and cnt:\n",
    "                nxt = cur.next\n",
    "                cur.next = prv\n",
    "                prv = cur\n",
    "                cur = nxt\n",
    "                cnt -= 1\n",
    "            return prv, cur\n",
    "        \n",
    "        # whether we do kReverse\n",
    "        cnt = k\n",
    "        end = head\n",
    "        while end and cnt:\n",
    "            end = end.next\n",
    "            cnt -= 1\n",
    "\n",
    "        if cnt == 0:\n",
    "            now, next_ptr = kReverse(head,k)\n",
    "            head.next = self.reverseKGroup(next_ptr,k)\n",
    "            return now\n",
    "        else:\n",
    "            return head"
   ]
  },
  {
   "cell_type": "markdown",
   "metadata": {},
   "source": [
    "## 高效判断回文单链表\n",
    "\n",
    "\n",
    "最长回文子串\n",
    "\n",
    "5. Longest Palindromic Substring"
   ]
  },
  {
   "cell_type": "code",
   "execution_count": null,
   "metadata": {},
   "outputs": [],
   "source": [
    "class Solution:\n",
    "    def longestPalindrome(self, s: str) -> str:\n",
    "        def subPalind(s,l,r):\n",
    "            while l>=0 and r<len(s) and s[l]==s[r]:\n",
    "                l-=1\n",
    "                r+=1\n",
    "            return s[l+1:r]\n",
    "        \n",
    "        res = ''\n",
    "        for i in range(len(s)):\n",
    "            tmp1 = subPalind(s,i,i)\n",
    "            tmp2 = subPalind(s,i,i+1)\n",
    "            if len(tmp1)>len(tmp2):\n",
    "                tmp = tmp1\n",
    "            else:\n",
    "                tmp = tmp2\n",
    "            \n",
    "            if len(res)<len(tmp):\n",
    "                res = tmp\n",
    "        return res\n",
    "        "
   ]
  },
  {
   "cell_type": "markdown",
   "metadata": {},
   "source": [
    "最长递增子序列\n",
    "300. Longest Increasing Subsequence"
   ]
  },
  {
   "cell_type": "code",
   "execution_count": null,
   "metadata": {},
   "outputs": [],
   "source": []
  },
  {
   "cell_type": "markdown",
   "metadata": {},
   "source": [
    "最长回文子序列\n",
    "516. Longest Palindromic Subsequence"
   ]
  },
  {
   "cell_type": "code",
   "execution_count": null,
   "metadata": {},
   "outputs": [],
   "source": []
  },
  {
   "cell_type": "code",
   "execution_count": null,
   "metadata": {},
   "outputs": [],
   "source": []
  },
  {
   "cell_type": "code",
   "execution_count": null,
   "metadata": {},
   "outputs": [],
   "source": []
  },
  {
   "cell_type": "code",
   "execution_count": null,
   "metadata": {},
   "outputs": [],
   "source": []
  },
  {
   "cell_type": "code",
   "execution_count": null,
   "metadata": {},
   "outputs": [],
   "source": []
  },
  {
   "cell_type": "code",
   "execution_count": null,
   "metadata": {},
   "outputs": [],
   "source": []
  }
 ],
 "metadata": {
  "kernelspec": {
   "display_name": "Python 3",
   "language": "python",
   "name": "python3"
  },
  "language_info": {
   "codemirror_mode": {
    "name": "ipython",
    "version": 3
   },
   "file_extension": ".py",
   "mimetype": "text/x-python",
   "name": "python",
   "nbconvert_exporter": "python",
   "pygments_lexer": "ipython3",
   "version": "3.8.3"
  },
  "toc": {
   "base_numbering": 1,
   "nav_menu": {},
   "number_sections": true,
   "sideBar": true,
   "skip_h1_title": false,
   "title_cell": "Table of Contents",
   "title_sidebar": "Contents",
   "toc_cell": false,
   "toc_position": {},
   "toc_section_display": true,
   "toc_window_display": true
  },
  "varInspector": {
   "cols": {
    "lenName": 16,
    "lenType": 16,
    "lenVar": 40
   },
   "kernels_config": {
    "python": {
     "delete_cmd_postfix": "",
     "delete_cmd_prefix": "del ",
     "library": "var_list.py",
     "varRefreshCmd": "print(var_dic_list())"
    },
    "r": {
     "delete_cmd_postfix": ") ",
     "delete_cmd_prefix": "rm(",
     "library": "var_list.r",
     "varRefreshCmd": "cat(var_dic_list()) "
    }
   },
   "types_to_exclude": [
    "module",
    "function",
    "builtin_function_or_method",
    "instance",
    "_Feature"
   ],
   "window_display": false
  }
 },
 "nbformat": 4,
 "nbformat_minor": 4
}
